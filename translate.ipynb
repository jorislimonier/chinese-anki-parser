{
 "cells": [
  {
   "cell_type": "code",
   "execution_count": 31,
   "metadata": {},
   "outputs": [],
   "source": [
    "import deep_translator\n",
    "from deep_translator import GoogleTranslator\n",
    "from pypinyin import pinyin\n",
    "\n",
    "trans = GoogleTranslator(source=\"zh-CN\", target=\"en\")\n",
    "\n",
    "vocab = [\n",
    "  \"开学\",\n",
    "  \"新年\",\n",
    "  \"白酒\",\n",
    "  \"酒\",\n",
    "  \"葡萄酒\",\n",
    "  \"果酒\",\n",
    "  \"米酒\",\n",
    "  \"酒酿\",\n",
    "  \"饮料\",\n",
    "  \"胡萝卜\",\n",
    "  \"蘑菇\",\n",
    "  \"洋葱\",\n",
    "  \"热红酒\",\n",
    "  \"在中国\",\n",
    "  \"法国蜗牛\",\n",
    "  \"墨西哥\",\n",
    "  \"一般般\",\n",
    "  \"中国朋友\",\n",
    "  \"火\",\n",
    "  \"奶茶\",\n",
    "  \"推荐\",\n",
    "  \"乡村\",\n",
    "  \"烟火\",\n",
    "  \"红包\",\n",
    "  \"饺子\",\n",
    "  \"上车饺子 下车面\",\n",
    "  \"三个半小时\",\n",
    "  \"船\",\n",
    "  \"起床\",\n",
    "  \"骑自行车\",\n",
    "  \"做年糕\",\n",
    "  \"爬山\",\n",
    "]\n",
    "\n",
    "translation = trans.translate_batch(vocab)\n"
   ]
  },
  {
   "cell_type": "code",
   "execution_count": 36,
   "metadata": {},
   "outputs": [
    {
     "data": {
      "text/plain": [
       "['kāi xué',\n",
       " 'xīn nián',\n",
       " 'bái jiǔ',\n",
       " 'jiǔ',\n",
       " 'pú táo jiǔ',\n",
       " 'guǒ jiǔ',\n",
       " 'mǐ jiǔ',\n",
       " 'jiǔ niàng',\n",
       " 'yǐn liào',\n",
       " 'hú luó bo',\n",
       " 'mó gū',\n",
       " 'yáng cōng',\n",
       " 'rè hóng jiǔ',\n",
       " 'zài zhōng guó',\n",
       " 'fǎ guó wō niú',\n",
       " 'mò xī gē',\n",
       " 'yì bān bān',\n",
       " 'zhōng guó péng yǒu',\n",
       " 'huǒ',\n",
       " 'nǎi chá',\n",
       " 'tuī jiàn',\n",
       " 'xiāng cūn',\n",
       " 'yān huǒ',\n",
       " 'hóng bāo',\n",
       " 'jiǎo zi',\n",
       " 'shàng chē jiǎo zi  xià chē miàn',\n",
       " 'sān gè bàn xiǎo shí',\n",
       " 'chuán',\n",
       " 'qǐ chuáng',\n",
       " 'qí zì xíng chē',\n",
       " 'zuò nián gāo',\n",
       " 'pá shān']"
      ]
     },
     "execution_count": 36,
     "metadata": {},
     "output_type": "execute_result"
    }
   ],
   "source": [
    "vocab_pinyin = []\n",
    "\n",
    "# Iterate over propositions\n",
    "for prop in vocab:\n",
    "\n",
    "  # Get pinyin\n",
    "  pin = pinyin(prop)\n",
    "\n",
    "  prop_pinyin = []\n",
    "\n",
    "  # Iterate over list of possible pinyins\n",
    "  for possible_pinyins in pin:\n",
    "\n",
    "    # Warn if there are actually several possible pinyins\n",
    "    # Most of the time (almost always), there is just one possible pinyin\n",
    "    if len(possible_pinyins) != 1:\n",
    "      print(f\"Char {possible_pinyins} has several possibilities. Taking the first one.\")\n",
    "\n",
    "    prop_pinyin.append(possible_pinyins[0].strip())\n",
    "\n",
    "  vocab_pinyin.append(\" \".join(prop_pinyin))\n",
    "\n",
    "vocab_pinyin"
   ]
  }
 ],
 "metadata": {
  "kernelspec": {
   "display_name": "Python 3",
   "language": "python",
   "name": "python3"
  },
  "language_info": {
   "codemirror_mode": {
    "name": "ipython",
    "version": 3
   },
   "file_extension": ".py",
   "mimetype": "text/x-python",
   "name": "python",
   "nbconvert_exporter": "python",
   "pygments_lexer": "ipython3",
   "version": "3.11.1"
  },
  "orig_nbformat": 4,
  "vscode": {
   "interpreter": {
    "hash": "ead1b95f633dc9c51826328e1846203f51a198c6fb5f2884a80417ba131d4e82"
   }
  }
 },
 "nbformat": 4,
 "nbformat_minor": 2
}
