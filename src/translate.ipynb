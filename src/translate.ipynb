{
 "cells": [
  {
   "cell_type": "code",
   "execution_count": 19,
   "metadata": {},
   "outputs": [],
   "source": [
    "from parse_chinese import *\n",
    "%reload_ext autoreload\n",
    "%autoreload 2\n",
    "\n",
    "vocab = [\n",
    "  \"开学\",\n",
    "  \"新年\",\n",
    "  \"白酒\",\n",
    "  \"酒\",\n",
    "  \"米酒\",\n",
    "  \"酒酿\",\n",
    "  \"饮料\",\n",
    "  \"蘑菇\",\n",
    "  \"洋葱\",\n",
    "  \"热红酒\",\n",
    "  \"在中国\",\n",
    "  \"法国蜗牛\",\n",
    "  \"墨西哥\",\n",
    "  \"一般般\",\n",
    "  \"中国朋友\",\n",
    "  \"火\",\n",
    "  \"奶茶\",\n",
    "  \"推荐\",\n",
    "  \"乡村\",\n",
    "  \"烟火\",\n",
    "  \"红包\",\n",
    "  \"上车饺子\",\n",
    "  \"下车面\",\n",
    "  \"骑自行车\",\n",
    "  \"做年糕\",\n",
    "  \"爬山\",\n",
    "]\n",
    "\n",
    "cp = ChineseParser(vocab=vocab)"
   ]
  },
  {
   "cell_type": "code",
   "execution_count": 22,
   "metadata": {},
   "outputs": [],
   "source": [
    "cp.make_df().to_csv(\"../data/processed/parsed_data.csv\", header=False, index=False, sep=\"\\t\")"
   ]
  }
 ],
 "metadata": {
  "kernelspec": {
   "display_name": "Python 3",
   "language": "python",
   "name": "python3"
  },
  "language_info": {
   "codemirror_mode": {
    "name": "ipython",
    "version": 3
   },
   "file_extension": ".py",
   "mimetype": "text/x-python",
   "name": "python",
   "nbconvert_exporter": "python",
   "pygments_lexer": "ipython3",
   "version": "3.11.1"
  },
  "orig_nbformat": 4,
  "vscode": {
   "interpreter": {
    "hash": "ead1b95f633dc9c51826328e1846203f51a198c6fb5f2884a80417ba131d4e82"
   }
  }
 },
 "nbformat": 4,
 "nbformat_minor": 2
}
